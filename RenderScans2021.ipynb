{
 "cells": [
  {
   "cell_type": "markdown",
   "metadata": {},
   "source": [
    "# Render Scans from all .h5 files\n",
    "\n",
    "Artur Kaczmarczyk  | akaczmarczyk88@gmail.com   \n",
    "Single Molecule Imaging Group | D. Rueda lab | Imperial College London | MRC LMS\n",
    "\n",
    "version: August 11 2021\n",
    "\n",
    "The script below loads all .h5 files from a folder that contains .h5 files with a scan and saves them as .tiff \n",
    "\n",
    "-------\n",
    "requirements: tkinter library for opening dialog window; if there is a problem with it, silence the tkinker library and manually add the directory of the folder with .h5 files\n",
    "\n"
   ]
  },
  {
   "cell_type": "code",
   "execution_count": 2,
   "metadata": {},
   "outputs": [],
   "source": [
    "# Load the libraries\n",
    "\n",
    "import os\n",
    "import numpy as np\n",
    "import sys\n",
    "import matplotlib.pyplot as plt\n",
    "\n",
    "\n",
    "\n",
    "from lumicks import pylake\n",
    "\n",
    "from tkinter import filedialog        # for opening dialog window\n",
    "from tkinter import *\n"
   ]
  },
  {
   "cell_type": "markdown",
   "metadata": {},
   "source": [
    "## In the pop-up window, select the folder that contains .h5 files with Kymograph files\n"
   ]
  },
  {
   "cell_type": "code",
   "execution_count": 5,
   "metadata": {},
   "outputs": [
    {
     "name": "stdout",
     "output_type": "stream",
     "text": [
      "20210123-182655 RecA_44nt_ssDNA_25nM_to_4nM_gappedDNA Scan 4.h5\n",
      "20210123-182659 RecA_44nt_ssDNA_25nM_to_4nM_gappedDNA Scan 3.h5\n",
      "20210123-190004 M4_RecA_44nt_ssDNA_25nM_to_4nM_2tethers Scan 14.h5\n",
      "20210123-192328 M5_RecA_44nt_ssDNA_25nM_to_4nM_2tethers Scan 26.h5\n",
      "20210123-192330 M5_RecA_44nt_ssDNA_25nM_to_4nM_2tethers Scan 27.h5\n",
      "<class 'list'>\n"
     ]
    },
    {
     "data": {
      "text/plain": [
       "'/Volumes/ELEMENTS/C-TRAP data 2021/2021_01_22'"
      ]
     },
     "execution_count": 5,
     "metadata": {},
     "output_type": "execute_result"
    }
   ],
   "source": [
    "## ALTERNATIVELY TYPE THE FOLDER DIRECTORY IF THE POP-UP WINDOW DOESN'T WORK\n",
    "#folder = os.getcwd( )\n",
    "#filenames = os.listdir(folder)  \n",
    "#Filenames = []  \n",
    "#folder_selected =  r'/Users/Artur/OneDrive - Imperial College London/20200913'\n",
    "\n",
    "\n",
    "root = Tk()\n",
    "root.withdraw()\n",
    "folder_selected = filedialog.askdirectory()\n",
    "root.update()\n",
    "\n",
    "filenames = os.listdir(folder_selected)          # all files in the chosen folder\n",
    "Filenames = []                          \n",
    "\n",
    "\n",
    "# Selection of KYMOGRAPH.H5 files only\n",
    "for filename in filenames:              \n",
    "    if filename[-3:] == '.h5' and 'Scan' in filename:\n",
    "        \n",
    "        Filenames.append(filename)\n",
    "        print(filename)\n",
    "        \n",
    "print(type(Filenames))\n",
    "\n",
    "os.chdir(folder_selected)\n",
    "os.getcwd()"
   ]
  },
  {
   "cell_type": "markdown",
   "metadata": {},
   "source": [
    "## Extract TIFFs from all files in the folder and save them as .TIFF"
   ]
  },
  {
   "cell_type": "code",
   "execution_count": 6,
   "metadata": {},
   "outputs": [
    {
     "name": "stdout",
     "output_type": "stream",
     "text": [
      "Scan I.D. = ['4']\n",
      "Scan I.D. = ['3']\n",
      "Scan I.D. = ['14']\n",
      "Scan I.D. = ['26']\n",
      "Scan I.D. = ['27']\n"
     ]
    }
   ],
   "source": [
    "for i in range(len(Filenames)):\n",
    "   \n",
    "    name = str(Filenames[i])\n",
    "    file = pylake.File(name)\n",
    "    \n",
    "    print(\"Scan I.D. = \" + str(list(file.scans)))   \n",
    "    #print(file)                                   # textual representation of the contents of a file\n",
    "\n",
    "    scans_names = list(file.scans)                 # reference to Kymo I.D \n",
    "    scans = file.scans[scans_names[0]]\n",
    "                              \n",
    "    \n",
    "    index = scans_names[0]                        #first index from the list of kymographs within one file    \n",
    "    #name = 'Kymo_' + index + '.tiff'\n",
    "    name2 = name[:-3] + '.tiff'\n",
    "\n",
    "    scans.save_tiff(str(name2))\n",
    "    scans.plot_rgb(vmax=5)    \n",
    "    plt.savefig(name[:-3] + '.png', dpi=300, bbox_inches='tight')\n",
    "    scans.export_video_rgb(name[:-3]  + '.gif')\n"
   ]
  },
  {
   "cell_type": "code",
   "execution_count": null,
   "metadata": {},
   "outputs": [],
   "source": []
  }
 ],
 "metadata": {
  "kernelspec": {
   "display_name": "Python 3",
   "language": "python",
   "name": "python3"
  },
  "language_info": {
   "codemirror_mode": {
    "name": "ipython",
    "version": 3
   },
   "file_extension": ".py",
   "mimetype": "text/x-python",
   "name": "python",
   "nbconvert_exporter": "python",
   "pygments_lexer": "ipython3",
   "version": "3.9.4"
  }
 },
 "nbformat": 4,
 "nbformat_minor": 2
}
