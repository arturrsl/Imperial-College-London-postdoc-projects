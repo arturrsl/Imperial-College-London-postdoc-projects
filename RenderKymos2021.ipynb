{
 "cells": [
  {
   "cell_type": "markdown",
   "metadata": {},
   "source": [
    "# Render Kymographs from all .h5 files\n",
    "\n",
    "Artur Kaczmarczyk  | akaczmarczyk88@gmail.com   \n",
    "Single Molecule Imaging Group | D. Rueda lab | Imperial College London | MRC LMS\n",
    "\n",
    "version: August 11 2021\n",
    "\n",
    "The script below loads all .h5 files from a folder that contains .h5 files with a kymograph and saves them as .tiff and .png\n",
    "\n",
    "-------\n",
    "requirements: tkinter library for opening dialog window; if there is a problem with it, silence the tkinker library and manually add the directory of the folder with .h5 files\n",
    "\n"
   ]
  },
  {
   "cell_type": "code",
   "execution_count": 1,
   "metadata": {},
   "outputs": [],
   "source": [
    "# Load the libraries\n",
    "\n",
    "import os\n",
    "import numpy as np\n",
    "import sys\n",
    "import matplotlib.pyplot as plt\n",
    "\n",
    "from lumicks import pylake\n",
    "\n",
    "from tkinter import filedialog        # for opening dialog window\n",
    "from tkinter import *\n"
   ]
  },
  {
   "cell_type": "markdown",
   "metadata": {},
   "source": [
    "## In the pop-up window, select the folder that contains .h5 files with Kymograph files\n"
   ]
  },
  {
   "cell_type": "code",
   "execution_count": 26,
   "metadata": {},
   "outputs": [
    {
     "name": "stdout",
     "output_type": "stream",
     "text": [
      "20200925-143341 M1_TC_2nM_ssDNA_20nt_26nM_Rad51_TC Kymograph 1.h5\n",
      "20200925-144252 M2_nonTC_2nM_ssDNA_20nt_26nM_Rad51_TC Kymograph 2.h5\n",
      "20200925-145242 M3_nonTC_2nM_ssDNA_20nt_26nM_Rad51_TC Kymograph 3.h5\n",
      "20200925-145858 M3_nonTC_2nM_ssDNA_20nt_26nM_Rad51_TC Kymograph 4.h5\n",
      "20200925-150955 M4_nonTC_2nM_ssDNA_20nt_26nM_Rad51_TC Kymograph 5.h5\n",
      "20200925-151655 M5_nonTC_2nM_ssDNA_20nt_26nM_Rad51_TC Kymograph 6.h5\n",
      "20200925-152527 M6_nonTC_2nM_ssDNA_20nt_26nM_Rad51_TC Kymograph 7.h5\n",
      "20200925-160020 M7_nonTC_2nM_ssDNA_20nt_26nM_Rad51_TC Kymograph 9.h5\n",
      "20200925-160826 M7_nonTC_2nM_ssDNA_20nt_26nM_Rad51_TC Kymograph 10.h5\n",
      "20200925-171143 M7_nonTC_2nM_ssDNA_20nt_26nM_Rad51_TC Kymograph 15.h5\n",
      "20200925-171833 M7_nonTC_2nM_ssDNA_20nt_26nM_1nM_RRRad51_TC Kymograph 16.h5\n",
      "20200925-172900 M7_nonTC_2nM_ssDNA_20nt_26nM_1nM_RRRad51_TC Kymograph 19.h5\n",
      "20200925-174126 M7_nonTC_2nM_ssDNA_20nt_26nM_1nM_RRRad51_TC Kymograph 20.h5\n",
      "20200925-174222 M7_nonTC_2nM_ssDNA_20nt_26nM_1nM_RRRad51_TC Kymograph 21.h5\n",
      "20200925-174833 M7_nonTC_2nM_ssDNA_20nt_26nM_1nM_RRRad51_TC Kymograph 22.h5\n",
      "<class 'list'>\n"
     ]
    },
    {
     "data": {
      "text/plain": [
       "'/Volumes/ELEMENTS/C-TRAP data 2020/20200925'"
      ]
     },
     "execution_count": 26,
     "metadata": {},
     "output_type": "execute_result"
    }
   ],
   "source": [
    "## ALTERNATIVELY TYPE THE FOLDER DIRECTORY IF THE POP-UP WINDOW DOESN'T WORK\n",
    "#folder = os.getcwd( )\n",
    "#filenames = os.listdir(folder)  \n",
    "#Filenames = []  \n",
    "#folder_selected =  r'/Users/Artur/OneDrive - Imperial College London/20200913'\n",
    "\n",
    "\n",
    "root = Tk()\n",
    "root.withdraw()\n",
    "folder_selected = filedialog.askdirectory()\n",
    "root.update()\n",
    "\n",
    "filenames = os.listdir(folder_selected)          # all files in the chosen folder\n",
    "Filenames = []                          \n",
    "\n",
    "\n",
    "# Selection of KYMOGRAPH.H5 files only\n",
    "for filename in filenames:              \n",
    "    if filename[-3:] == '.h5' and 'Kymo' in filename:\n",
    "        \n",
    "        Filenames.append(filename)\n",
    "        print(filename)\n",
    "        \n",
    "print(type(Filenames))\n",
    "\n",
    "os.chdir(folder_selected)\n",
    "os.getcwd()"
   ]
  },
  {
   "cell_type": "markdown",
   "metadata": {},
   "source": [
    "## Extract kymographs from all files in the folder and save them as .TIFF"
   ]
  },
  {
   "cell_type": "code",
   "execution_count": 27,
   "metadata": {},
   "outputs": [
    {
     "name": "stdout",
     "output_type": "stream",
     "text": [
      "Kymo I.D. = ['1']\n",
      "Imaging time = 318.95 s\n",
      "Kymo I.D. = ['2']\n",
      "Imaging time = 254.67 s\n",
      "Kymo I.D. = ['3']\n",
      "Imaging time = 279.73 s\n",
      "Kymo I.D. = ['4']\n",
      "Imaging time = 317.83 s\n",
      "Kymo I.D. = ['5']\n",
      "Imaging time = 402.9 s\n",
      "Kymo I.D. = ['6']\n",
      "Imaging time = 192.87 s\n",
      "Kymo I.D. = ['7']\n",
      "Imaging time = 229.81 s\n",
      "Kymo I.D. = ['9']\n",
      "Imaging time = 537.89 s\n",
      "Kymo I.D. = ['10']\n",
      "Imaging time = 248.5 s\n",
      "Kymo I.D. = ['15']\n",
      "Imaging time = 588.57 s\n",
      "Kymo I.D. = ['16']\n",
      "Imaging time = 233.45 s\n",
      "Kymo I.D. = ['19']\n",
      "Imaging time = 274.36 s\n",
      "Kymo I.D. = ['20']\n",
      "Imaging time = 100.24 s\n",
      "Kymo I.D. = ['21']\n",
      "Imaging time = 384.54 s\n",
      "Kymo I.D. = ['22']\n",
      "Imaging time = 109.06 s\n"
     ]
    },
    {
     "data": {
      "image/png": "[encoded data removed]",
      "text/plain": [
       "<Figure size 432x288 with 1 Axes>"
      ]
     },
     "metadata": {
      "needs_background": "light"
     },
     "output_type": "display_data"
    }
   ],
   "source": [
    "for i in range(len(Filenames)):\n",
    "   \n",
    "    name = str(Filenames[i])\n",
    "    file = pylake.File(name)\n",
    "    \n",
    "    print(\"Kymo I.D. = \" + str(list(file.kymos)))   \n",
    "    #print(file)                                   # textual representation of the contents of a file\n",
    "\n",
    "    kymos_names = list(file.kymos)                 # reference to Kymo I.D \n",
    "    kymos = file.kymos[kymos_names[0]]\n",
    "                              \n",
    "    #print(\"Start timestamp = \" + str(kymos.start) + \" ns\")\n",
    "    #print(\"End timestamp = \" + str(kymos.stop) + \" ns\")\n",
    "    time = round((kymos.stop - kymos.start) /1000000000,2)\n",
    "    print(\"Imaging time = \" + str(time) + \" s\")\n",
    "    \n",
    "    index = kymos_names[0]                        #first index from the list of kymographs within one file    \n",
    "    #name = 'Kymo_' + index + '.tiff'\n",
    "    name2 = name[:-3] + '.tiff'\n",
    "\n",
    "    kymos.save_tiff(str(name2))\n",
    "    kymos.plot_rgb(vmax=0.1)    \n",
    "    plt.savefig(name[:-3] + '.png', dpi=300, bbox_inches='tight')\n"
   ]
  },
  {
   "cell_type": "code",
   "execution_count": null,
   "metadata": {},
   "outputs": [],
   "source": []
  },
  {
   "cell_type": "code",
   "execution_count": null,
   "metadata": {},
   "outputs": [],
   "source": []
  }
 ],
 "metadata": {
  "kernelspec": {
   "display_name": "Python 3",
   "language": "python",
   "name": "python3"
  },
  "language_info": {
   "codemirror_mode": {
    "name": "ipython",
    "version": 3
   },
   "file_extension": ".py",
   "mimetype": "text/x-python",
   "name": "python",
   "nbconvert_exporter": "python",
   "pygments_lexer": "ipython3",
   "version": "3.9.4"
  }
 },
 "nbformat": 4,
 "nbformat_minor": 2
}
